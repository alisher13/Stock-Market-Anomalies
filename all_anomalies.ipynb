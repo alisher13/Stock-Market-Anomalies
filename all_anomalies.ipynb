{
 "cells": [
  {
   "cell_type": "code",
   "execution_count": 393,
   "metadata": {
    "collapsed": true
   },
   "outputs": [],
   "source": [
    "import pandas as pd\n",
    "import matplotlib\n",
    "matplotlib.style.use('ggplot')\n",
    "import matplotlib.pyplot as plt\n",
    "%matplotlib inline\n"
   ]
  },
  {
   "cell_type": "code",
   "execution_count": 394,
   "metadata": {
    "collapsed": false
   },
   "outputs": [
    {
     "data": {
      "text/html": [
       "<div>\n",
       "<table border=\"1\" class=\"dataframe\">\n",
       "  <thead>\n",
       "    <tr style=\"text-align: right;\">\n",
       "      <th></th>\n",
       "      <th>ID</th>\n",
       "      <th>date key</th>\n",
       "      <th>full date</th>\n",
       "      <th>datetext</th>\n",
       "      <th>day num in month</th>\n",
       "      <th>day abbrev</th>\n",
       "      <th>Month</th>\n",
       "      <th>month abbrev</th>\n",
       "      <th>Year</th>\n",
       "      <th>HolidayUSA</th>\n",
       "      <th>isMoon</th>\n",
       "      <th>HolidayCAN</th>\n",
       "    </tr>\n",
       "  </thead>\n",
       "  <tbody>\n",
       "    <tr>\n",
       "      <th>0</th>\n",
       "      <td>1</td>\n",
       "      <td>19850101</td>\n",
       "      <td>1/1/1985 0:00:00</td>\n",
       "      <td>1985-01-01</td>\n",
       "      <td>1</td>\n",
       "      <td>Tue</td>\n",
       "      <td>1</td>\n",
       "      <td>Jan</td>\n",
       "      <td>1985</td>\n",
       "      <td>New Year's Day</td>\n",
       "      <td>notFullMoon</td>\n",
       "      <td>New Year's Day</td>\n",
       "    </tr>\n",
       "    <tr>\n",
       "      <th>1</th>\n",
       "      <td>2</td>\n",
       "      <td>19850102</td>\n",
       "      <td>1/2/1985 0:00:00</td>\n",
       "      <td>1985-01-02</td>\n",
       "      <td>2</td>\n",
       "      <td>Wed</td>\n",
       "      <td>1</td>\n",
       "      <td>Jan</td>\n",
       "      <td>1985</td>\n",
       "      <td>NonHoliday</td>\n",
       "      <td>notFullMoon</td>\n",
       "      <td>NonHoliday</td>\n",
       "    </tr>\n",
       "  </tbody>\n",
       "</table>\n",
       "</div>"
      ],
      "text/plain": [
       "   ID  date key         full date    datetext  day num in month day abbrev  \\\n",
       "0   1  19850101  1/1/1985 0:00:00  1985-01-01                 1        Tue   \n",
       "1   2  19850102  1/2/1985 0:00:00  1985-01-02                 2        Wed   \n",
       "\n",
       "   Month month abbrev  Year      HolidayUSA       isMoon      HolidayCAN  \n",
       "0      1          Jan  1985  New Year's Day  notFullMoon  New Year's Day  \n",
       "1      1          Jan  1985      NonHoliday  notFullMoon      NonHoliday  "
      ]
     },
     "execution_count": 394,
     "metadata": {},
     "output_type": "execute_result"
    }
   ],
   "source": [
    "\n",
    "dj = pd.read_csv('data/DJIA.csv')\n",
    "nq = pd.read_csv('data/Nasdaq.csv')\n",
    "sp = pd.read_csv('data/SP500.csv')\n",
    "tse = pd.read_csv('data/tse.csv')\n",
    "moon = pd.read_csv('data/FullMoonDates.csv')\n",
    "all_dates = pd.read_csv('data/DateDim-moon-holiday(from 1985).txt')\n",
    "all_dates[:2]\n"
   ]
  },
  {
   "cell_type": "code",
   "execution_count": 395,
   "metadata": {
    "collapsed": false
   },
   "outputs": [
    {
     "data": {
      "text/html": [
       "<div>\n",
       "<table border=\"1\" class=\"dataframe\">\n",
       "  <thead>\n",
       "    <tr style=\"text-align: right;\">\n",
       "      <th></th>\n",
       "      <th>ID</th>\n",
       "      <th>date key</th>\n",
       "      <th>full date</th>\n",
       "      <th>Date</th>\n",
       "      <th>month_num</th>\n",
       "      <th>Day</th>\n",
       "      <th>Month</th>\n",
       "      <th>month abbrev</th>\n",
       "      <th>Year</th>\n",
       "      <th>HolidayUSA</th>\n",
       "      <th>isMoon</th>\n",
       "      <th>HolidayCAN</th>\n",
       "    </tr>\n",
       "  </thead>\n",
       "  <tbody>\n",
       "    <tr>\n",
       "      <th>0</th>\n",
       "      <td>1</td>\n",
       "      <td>19850101</td>\n",
       "      <td>1/1/1985 0:00:00</td>\n",
       "      <td>1985-01-01</td>\n",
       "      <td>1</td>\n",
       "      <td>Tue</td>\n",
       "      <td>1</td>\n",
       "      <td>Jan</td>\n",
       "      <td>1985</td>\n",
       "      <td>New Year's Day</td>\n",
       "      <td>notFullMoon</td>\n",
       "      <td>New Year's Day</td>\n",
       "    </tr>\n",
       "    <tr>\n",
       "      <th>1</th>\n",
       "      <td>2</td>\n",
       "      <td>19850102</td>\n",
       "      <td>1/2/1985 0:00:00</td>\n",
       "      <td>1985-01-02</td>\n",
       "      <td>2</td>\n",
       "      <td>Wed</td>\n",
       "      <td>1</td>\n",
       "      <td>Jan</td>\n",
       "      <td>1985</td>\n",
       "      <td>NonHoliday</td>\n",
       "      <td>notFullMoon</td>\n",
       "      <td>NonHoliday</td>\n",
       "    </tr>\n",
       "    <tr>\n",
       "      <th>2</th>\n",
       "      <td>3</td>\n",
       "      <td>19850103</td>\n",
       "      <td>1/3/1985 0:00:00</td>\n",
       "      <td>1985-01-03</td>\n",
       "      <td>3</td>\n",
       "      <td>Thu</td>\n",
       "      <td>1</td>\n",
       "      <td>Jan</td>\n",
       "      <td>1985</td>\n",
       "      <td>NonHoliday</td>\n",
       "      <td>notFullMoon</td>\n",
       "      <td>NonHoliday</td>\n",
       "    </tr>\n",
       "  </tbody>\n",
       "</table>\n",
       "</div>"
      ],
      "text/plain": [
       "   ID  date key         full date        Date  month_num  Day  Month  \\\n",
       "0   1  19850101  1/1/1985 0:00:00  1985-01-01          1  Tue      1   \n",
       "1   2  19850102  1/2/1985 0:00:00  1985-01-02          2  Wed      1   \n",
       "2   3  19850103  1/3/1985 0:00:00  1985-01-03          3  Thu      1   \n",
       "\n",
       "  month abbrev  Year      HolidayUSA       isMoon      HolidayCAN  \n",
       "0          Jan  1985  New Year's Day  notFullMoon  New Year's Day  \n",
       "1          Jan  1985      NonHoliday  notFullMoon      NonHoliday  \n",
       "2          Jan  1985      NonHoliday  notFullMoon      NonHoliday  "
      ]
     },
     "execution_count": 395,
     "metadata": {},
     "output_type": "execute_result"
    }
   ],
   "source": [
    "\n",
    "all_dates.columns = [u'ID', u'date key', u'full date', u'Date', u'month_num',\n",
    "       u'Day', u'Month', u'month abbrev', u'Year', u'HolidayUSA',\n",
    "       u'isMoon', u'HolidayCAN']\n",
    "\n",
    "all_dates[:3]"
   ]
  },
  {
   "cell_type": "code",
   "execution_count": null,
   "metadata": {
    "collapsed": true
   },
   "outputs": [],
   "source": []
  },
  {
   "cell_type": "code",
   "execution_count": 396,
   "metadata": {
    "collapsed": false
   },
   "outputs": [
    {
     "data": {
      "text/html": [
       "<div>\n",
       "<table border=\"1\" class=\"dataframe\">\n",
       "  <thead>\n",
       "    <tr style=\"text-align: right;\">\n",
       "      <th></th>\n",
       "      <th>Date</th>\n",
       "      <th>isMoon</th>\n",
       "      <th>HolidayUSA</th>\n",
       "      <th>HolidayCAN</th>\n",
       "      <th>Day</th>\n",
       "      <th>Month</th>\n",
       "    </tr>\n",
       "  </thead>\n",
       "  <tbody>\n",
       "    <tr>\n",
       "      <th>0</th>\n",
       "      <td>1985-01-01</td>\n",
       "      <td>notFullMoon</td>\n",
       "      <td>New Year's Day</td>\n",
       "      <td>New Year's Day</td>\n",
       "      <td>Tue</td>\n",
       "      <td>1</td>\n",
       "    </tr>\n",
       "    <tr>\n",
       "      <th>1</th>\n",
       "      <td>1985-01-02</td>\n",
       "      <td>notFullMoon</td>\n",
       "      <td>NonHoliday</td>\n",
       "      <td>NonHoliday</td>\n",
       "      <td>Wed</td>\n",
       "      <td>1</td>\n",
       "    </tr>\n",
       "    <tr>\n",
       "      <th>2</th>\n",
       "      <td>1985-01-03</td>\n",
       "      <td>notFullMoon</td>\n",
       "      <td>NonHoliday</td>\n",
       "      <td>NonHoliday</td>\n",
       "      <td>Thu</td>\n",
       "      <td>1</td>\n",
       "    </tr>\n",
       "  </tbody>\n",
       "</table>\n",
       "</div>"
      ],
      "text/plain": [
       "        Date       isMoon      HolidayUSA      HolidayCAN  Day  Month\n",
       "0 1985-01-01  notFullMoon  New Year's Day  New Year's Day  Tue      1\n",
       "1 1985-01-02  notFullMoon      NonHoliday      NonHoliday  Wed      1\n",
       "2 1985-01-03  notFullMoon      NonHoliday      NonHoliday  Thu      1"
      ]
     },
     "execution_count": 396,
     "metadata": {},
     "output_type": "execute_result"
    }
   ],
   "source": [
    "all_dates = all_dates[['Date','isMoon', 'HolidayUSA', 'HolidayCAN', 'Day', 'Month']]\n",
    "\n",
    "all_dates['Date']=pd.to_datetime(all_dates['Date'])\n",
    "\n",
    "\n",
    "all_dates[:3]\n"
   ]
  },
  {
   "cell_type": "code",
   "execution_count": 397,
   "metadata": {
    "collapsed": false
   },
   "outputs": [],
   "source": [
    "holidays = all_dates[['Date', 'HolidayUSA', 'HolidayCAN']]\n",
    "\n",
    "# # holidayUS['HolidayUSA'] = all_dates.loc[all_dates['column_name'] == some_value]\n",
    "\n",
    "# # df.loc[df['column_name'] == some_value]\n",
    "# # holidayCAN = all_dates[['HolidayCAN']]\n",
    "\n",
    "\n",
    "\n",
    "# holidays.loc[holidays.HolidayUSA != 'NonHoliday', 'HolidayUSA'] = 1\n",
    "# holidays.loc[holidays.HolidayUSA == 'NonHoliday', 'HolidayUSA'] = 0\n",
    "\n",
    "# holidays.loc[holidays.HolidayCAN != 'NonHoliday', 'HolidayCAN'] = 1\n",
    "# holidays.loc[holidays.HolidayCAN == 'NonHoliday', 'HolidayCAN'] = 0\n",
    "\n",
    "# holidays[11000:15000]\n",
    "\n",
    "# holidaysUS = holidays[holidays['HolidayUSA'] == 1]\n",
    "# holidaysCA = holidays[holidays['HolidayCAN'] == 1]\n",
    "# holidays_can = holidaysCA[['Date', 'HolidayCAN']] \n",
    "# holidays_usa = holidaysUS[['Date', 'HolidayUSA']]\n",
    "\n",
    "# holidays_can = holidays_can[holidays_can['Date'] < '2016-03-05']\n",
    "# holidays_usa = holidays_usa[holidays_usa['Date'] < '2016-03-05']\n",
    "\n",
    "\n",
    "# holidays_can[:3]"
   ]
  },
  {
   "cell_type": "code",
   "execution_count": 398,
   "metadata": {
    "collapsed": false,
    "scrolled": true
   },
   "outputs": [
    {
     "data": {
      "text/html": [
       "<div>\n",
       "<table border=\"1\" class=\"dataframe\">\n",
       "  <thead>\n",
       "    <tr style=\"text-align: right;\">\n",
       "      <th></th>\n",
       "      <th>Date</th>\n",
       "      <th>Open</th>\n",
       "      <th>High</th>\n",
       "      <th>Low</th>\n",
       "      <th>Close</th>\n",
       "      <th>Volume</th>\n",
       "      <th>Adj Close</th>\n",
       "      <th>percent_change</th>\n",
       "    </tr>\n",
       "  </thead>\n",
       "  <tbody>\n",
       "    <tr>\n",
       "      <th>0</th>\n",
       "      <td>2016-03-04</td>\n",
       "      <td>13150.500000</td>\n",
       "      <td>13281.799805</td>\n",
       "      <td>13150.500000</td>\n",
       "      <td>13212.500000</td>\n",
       "      <td>394167400</td>\n",
       "      <td>13212.500000</td>\n",
       "      <td>0.006766</td>\n",
       "    </tr>\n",
       "    <tr>\n",
       "      <th>1</th>\n",
       "      <td>2016-03-03</td>\n",
       "      <td>13055.200195</td>\n",
       "      <td>13157.400391</td>\n",
       "      <td>13025.500000</td>\n",
       "      <td>13123.700195</td>\n",
       "      <td>343296700</td>\n",
       "      <td>13123.700195</td>\n",
       "      <td>0.008127</td>\n",
       "    </tr>\n",
       "    <tr>\n",
       "      <th>2</th>\n",
       "      <td>2016-03-02</td>\n",
       "      <td>12985.200195</td>\n",
       "      <td>13030.400391</td>\n",
       "      <td>12858.000000</td>\n",
       "      <td>13017.900391</td>\n",
       "      <td>295879500</td>\n",
       "      <td>13017.900391</td>\n",
       "      <td>0.002758</td>\n",
       "    </tr>\n",
       "    <tr>\n",
       "      <th>3</th>\n",
       "      <td>2016-03-01</td>\n",
       "      <td>12896.299805</td>\n",
       "      <td>12998.500000</td>\n",
       "      <td>12896.299805</td>\n",
       "      <td>12982.099609</td>\n",
       "      <td>285256700</td>\n",
       "      <td>12982.099609</td>\n",
       "      <td>0.009463</td>\n",
       "    </tr>\n",
       "  </tbody>\n",
       "</table>\n",
       "</div>"
      ],
      "text/plain": [
       "         Date          Open          High           Low         Close  \\\n",
       "0  2016-03-04  13150.500000  13281.799805  13150.500000  13212.500000   \n",
       "1  2016-03-03  13055.200195  13157.400391  13025.500000  13123.700195   \n",
       "2  2016-03-02  12985.200195  13030.400391  12858.000000  13017.900391   \n",
       "3  2016-03-01  12896.299805  12998.500000  12896.299805  12982.099609   \n",
       "\n",
       "      Volume     Adj Close  percent_change  \n",
       "0  394167400  13212.500000        0.006766  \n",
       "1  343296700  13123.700195        0.008127  \n",
       "2  295879500  13017.900391        0.002758  \n",
       "3  285256700  12982.099609        0.009463  "
      ]
     },
     "execution_count": 398,
     "metadata": {},
     "output_type": "execute_result"
    }
   ],
   "source": [
    "# from datetime import datetime\n",
    "# moon['date'] = moon.apply(lambda row: datetime.strptime(\n",
    "#             \"%d-%s-%d\" % (row['Year'], row['Month'], row['Day']),\n",
    "#             \"%Y-%b-%d\"\n",
    "#         ), axis=1)\n",
    "\n",
    "dj['percent_change'] = ((dj['Close'] - dj['Close'].shift(-1)))/dj['Close'].shift(-1)\n",
    "nq['percent_change'] = ((nq['Close'] - nq['Close'].shift(-1)))/nq['Close'].shift(-1)\n",
    "sp['percent_change'] = ((sp['Close'] - sp['Close'].shift(-1)))/sp['Close'].shift(-1)\n",
    "tse['percent_change'] = ((tse['Close'] - tse['Close'].shift(-1)))/tse['Close'].shift(-1)\n",
    "\n",
    "tse[:4]"
   ]
  },
  {
   "cell_type": "code",
   "execution_count": 399,
   "metadata": {
    "collapsed": false
   },
   "outputs": [
    {
     "data": {
      "text/html": [
       "<div>\n",
       "<table border=\"1\" class=\"dataframe\">\n",
       "  <thead>\n",
       "    <tr style=\"text-align: right;\">\n",
       "      <th></th>\n",
       "      <th>Date</th>\n",
       "      <th>Open</th>\n",
       "      <th>High</th>\n",
       "      <th>Low</th>\n",
       "      <th>Close</th>\n",
       "      <th>Volume</th>\n",
       "      <th>Adj Close</th>\n",
       "      <th>percent_change</th>\n",
       "    </tr>\n",
       "  </thead>\n",
       "  <tbody>\n",
       "    <tr>\n",
       "      <th>0</th>\n",
       "      <td>2016-03-04</td>\n",
       "      <td>13150.500000</td>\n",
       "      <td>13281.799805</td>\n",
       "      <td>13150.5</td>\n",
       "      <td>13212.500000</td>\n",
       "      <td>394167400</td>\n",
       "      <td>13212.500000</td>\n",
       "      <td>0.006766</td>\n",
       "    </tr>\n",
       "    <tr>\n",
       "      <th>1</th>\n",
       "      <td>2016-03-03</td>\n",
       "      <td>13055.200195</td>\n",
       "      <td>13157.400391</td>\n",
       "      <td>13025.5</td>\n",
       "      <td>13123.700195</td>\n",
       "      <td>343296700</td>\n",
       "      <td>13123.700195</td>\n",
       "      <td>0.008127</td>\n",
       "    </tr>\n",
       "    <tr>\n",
       "      <th>2</th>\n",
       "      <td>2016-03-02</td>\n",
       "      <td>12985.200195</td>\n",
       "      <td>13030.400391</td>\n",
       "      <td>12858.0</td>\n",
       "      <td>13017.900391</td>\n",
       "      <td>295879500</td>\n",
       "      <td>13017.900391</td>\n",
       "      <td>0.002758</td>\n",
       "    </tr>\n",
       "  </tbody>\n",
       "</table>\n",
       "</div>"
      ],
      "text/plain": [
       "        Date          Open          High      Low         Close     Volume  \\\n",
       "0 2016-03-04  13150.500000  13281.799805  13150.5  13212.500000  394167400   \n",
       "1 2016-03-03  13055.200195  13157.400391  13025.5  13123.700195  343296700   \n",
       "2 2016-03-02  12985.200195  13030.400391  12858.0  13017.900391  295879500   \n",
       "\n",
       "      Adj Close  percent_change  \n",
       "0  13212.500000        0.006766  \n",
       "1  13123.700195        0.008127  \n",
       "2  13017.900391        0.002758  "
      ]
     },
     "execution_count": 399,
     "metadata": {},
     "output_type": "execute_result"
    }
   ],
   "source": [
    "\n",
    "# moon.columns = [u'Year', u'Month', u'Day', u'Time', u'Day.1', u'Unnamed: 5', u'Date']\n",
    "# moons = moon[['Date']]\n",
    "\n",
    "\n",
    "tse['Date']=pd.to_datetime(tse['Date'])\n",
    "dj['Date']= pd.to_datetime(dj['Date'])\n",
    "sp['Date']=pd.to_datetime(sp['Date'])\n",
    "nq['Date']=pd.to_datetime(nq['Date'])\n",
    "# type(tse['Date'][1])\n",
    "\n",
    "# moons['Date']\n",
    "# moons['Date'] = moons['Date'].apply(lambda x: x.date())\n",
    "\n",
    "# moons[:4]\n",
    "# pd.Series(moons['Date'])\n",
    "tse[:3]"
   ]
  },
  {
   "cell_type": "code",
   "execution_count": 400,
   "metadata": {
    "collapsed": false
   },
   "outputs": [
    {
     "data": {
      "text/html": [
       "<div>\n",
       "<table border=\"1\" class=\"dataframe\">\n",
       "  <thead>\n",
       "    <tr style=\"text-align: right;\">\n",
       "      <th></th>\n",
       "      <th>Date</th>\n",
       "      <th>Open</th>\n",
       "      <th>High</th>\n",
       "      <th>Low</th>\n",
       "      <th>Close</th>\n",
       "      <th>Volume</th>\n",
       "      <th>Adj Close</th>\n",
       "      <th>percent_change</th>\n",
       "      <th>isMoon</th>\n",
       "      <th>HolidayUSA</th>\n",
       "      <th>HolidayCAN</th>\n",
       "      <th>Day</th>\n",
       "      <th>Month</th>\n",
       "    </tr>\n",
       "  </thead>\n",
       "  <tbody>\n",
       "    <tr>\n",
       "      <th>0</th>\n",
       "      <td>2016-03-04</td>\n",
       "      <td>4715.759766</td>\n",
       "      <td>4746.649902</td>\n",
       "      <td>4687.939941</td>\n",
       "      <td>4717.020020</td>\n",
       "      <td>2171230000</td>\n",
       "      <td>4717.020020</td>\n",
       "      <td>0.002039</td>\n",
       "      <td>notFullMoon</td>\n",
       "      <td>NonHoliday</td>\n",
       "      <td>NonHoliday</td>\n",
       "      <td>Fri</td>\n",
       "      <td>3</td>\n",
       "    </tr>\n",
       "    <tr>\n",
       "      <th>1</th>\n",
       "      <td>2016-03-03</td>\n",
       "      <td>4698.379883</td>\n",
       "      <td>4707.720215</td>\n",
       "      <td>4674.459961</td>\n",
       "      <td>4707.419922</td>\n",
       "      <td>1936290000</td>\n",
       "      <td>4707.419922</td>\n",
       "      <td>0.000850</td>\n",
       "      <td>notFullMoon</td>\n",
       "      <td>NonHoliday</td>\n",
       "      <td>NonHoliday</td>\n",
       "      <td>Thu</td>\n",
       "      <td>3</td>\n",
       "    </tr>\n",
       "    <tr>\n",
       "      <th>2</th>\n",
       "      <td>2016-03-02</td>\n",
       "      <td>4683.799805</td>\n",
       "      <td>4703.580078</td>\n",
       "      <td>4665.930176</td>\n",
       "      <td>4703.419922</td>\n",
       "      <td>1912510000</td>\n",
       "      <td>4703.419922</td>\n",
       "      <td>0.002947</td>\n",
       "      <td>notFullMoon</td>\n",
       "      <td>NonHoliday</td>\n",
       "      <td>NonHoliday</td>\n",
       "      <td>Wed</td>\n",
       "      <td>3</td>\n",
       "    </tr>\n",
       "  </tbody>\n",
       "</table>\n",
       "</div>"
      ],
      "text/plain": [
       "        Date         Open         High          Low        Close      Volume  \\\n",
       "0 2016-03-04  4715.759766  4746.649902  4687.939941  4717.020020  2171230000   \n",
       "1 2016-03-03  4698.379883  4707.720215  4674.459961  4707.419922  1936290000   \n",
       "2 2016-03-02  4683.799805  4703.580078  4665.930176  4703.419922  1912510000   \n",
       "\n",
       "     Adj Close  percent_change       isMoon  HolidayUSA  HolidayCAN  Day  \\\n",
       "0  4717.020020        0.002039  notFullMoon  NonHoliday  NonHoliday  Fri   \n",
       "1  4707.419922        0.000850  notFullMoon  NonHoliday  NonHoliday  Thu   \n",
       "2  4703.419922        0.002947  notFullMoon  NonHoliday  NonHoliday  Wed   \n",
       "\n",
       "   Month  \n",
       "0      3  \n",
       "1      3  \n",
       "2      3  "
      ]
     },
     "execution_count": 400,
     "metadata": {},
     "output_type": "execute_result"
    }
   ],
   "source": [
    "\n",
    "\n",
    "all_dates_tse = pd.merge(tse, all_dates, right_on='Date', left_on='Date', how='inner')\n",
    "all_dates_dj = pd.merge(dj, all_dates, right_on='Date', left_on='Date', how='inner')\n",
    "all_dates_nq = pd.merge(nq, all_dates, right_on='Date', left_on='Date', how='inner')\n",
    "all_dates_sp = pd.merge(sp, all_dates, right_on='Date', left_on='Date', how='inner')\n",
    "\n",
    "all_dates_nq[:3]\n"
   ]
  },
  {
   "cell_type": "code",
   "execution_count": 401,
   "metadata": {
    "collapsed": false,
    "scrolled": false
   },
   "outputs": [
    {
     "data": {
      "text/html": [
       "<div>\n",
       "<table border=\"1\" class=\"dataframe\">\n",
       "  <thead>\n",
       "    <tr style=\"text-align: right;\">\n",
       "      <th></th>\n",
       "      <th>Date</th>\n",
       "      <th>Open</th>\n",
       "      <th>High</th>\n",
       "      <th>Low</th>\n",
       "      <th>Close</th>\n",
       "      <th>Volume</th>\n",
       "      <th>Adj Close</th>\n",
       "      <th>percent_change</th>\n",
       "      <th>isMoon</th>\n",
       "      <th>HolidayUSA</th>\n",
       "      <th>HolidayCAN</th>\n",
       "      <th>Day</th>\n",
       "      <th>Month</th>\n",
       "      <th>weekday</th>\n",
       "    </tr>\n",
       "  </thead>\n",
       "  <tbody>\n",
       "    <tr>\n",
       "      <th>0</th>\n",
       "      <td>2016-03-04</td>\n",
       "      <td>16945.000000</td>\n",
       "      <td>17062.380859</td>\n",
       "      <td>16898.839844</td>\n",
       "      <td>17006.769531</td>\n",
       "      <td>106910000</td>\n",
       "      <td>17006.769531</td>\n",
       "      <td>0.003710</td>\n",
       "      <td>notFullMoon</td>\n",
       "      <td>NonHoliday</td>\n",
       "      <td>NonHoliday</td>\n",
       "      <td>Fri</td>\n",
       "      <td>3</td>\n",
       "      <td>4</td>\n",
       "    </tr>\n",
       "    <tr>\n",
       "      <th>1</th>\n",
       "      <td>2016-03-03</td>\n",
       "      <td>16896.169922</td>\n",
       "      <td>16944.310547</td>\n",
       "      <td>16820.730469</td>\n",
       "      <td>16943.900391</td>\n",
       "      <td>91110000</td>\n",
       "      <td>16943.900391</td>\n",
       "      <td>0.002638</td>\n",
       "      <td>notFullMoon</td>\n",
       "      <td>NonHoliday</td>\n",
       "      <td>NonHoliday</td>\n",
       "      <td>Thu</td>\n",
       "      <td>3</td>\n",
       "      <td>3</td>\n",
       "    </tr>\n",
       "    <tr>\n",
       "      <th>2</th>\n",
       "      <td>2016-03-02</td>\n",
       "      <td>16851.169922</td>\n",
       "      <td>16900.169922</td>\n",
       "      <td>16766.320312</td>\n",
       "      <td>16899.320312</td>\n",
       "      <td>104470000</td>\n",
       "      <td>16899.320312</td>\n",
       "      <td>0.002030</td>\n",
       "      <td>notFullMoon</td>\n",
       "      <td>NonHoliday</td>\n",
       "      <td>NonHoliday</td>\n",
       "      <td>Wed</td>\n",
       "      <td>3</td>\n",
       "      <td>2</td>\n",
       "    </tr>\n",
       "  </tbody>\n",
       "</table>\n",
       "</div>"
      ],
      "text/plain": [
       "        Date          Open          High           Low         Close  \\\n",
       "0 2016-03-04  16945.000000  17062.380859  16898.839844  17006.769531   \n",
       "1 2016-03-03  16896.169922  16944.310547  16820.730469  16943.900391   \n",
       "2 2016-03-02  16851.169922  16900.169922  16766.320312  16899.320312   \n",
       "\n",
       "      Volume     Adj Close  percent_change       isMoon  HolidayUSA  \\\n",
       "0  106910000  17006.769531        0.003710  notFullMoon  NonHoliday   \n",
       "1   91110000  16943.900391        0.002638  notFullMoon  NonHoliday   \n",
       "2  104470000  16899.320312        0.002030  notFullMoon  NonHoliday   \n",
       "\n",
       "   HolidayCAN  Day  Month  weekday  \n",
       "0  NonHoliday  Fri      3        4  \n",
       "1  NonHoliday  Thu      3        3  \n",
       "2  NonHoliday  Wed      3        2  "
      ]
     },
     "execution_count": 401,
     "metadata": {},
     "output_type": "execute_result"
    }
   ],
   "source": [
    "\n",
    "exchanges = [all_dates_tse, all_dates_dj, all_dates_nq, all_dates_sp]\n",
    "\n",
    "for exchange in exchanges:\n",
    "    exchange['weekday'] = exchange['Date'].dt.dayofweek\n",
    "\n",
    "all_dates_dj[:3]"
   ]
  },
  {
   "cell_type": "code",
   "execution_count": 402,
   "metadata": {
    "collapsed": false
   },
   "outputs": [
    {
     "data": {
      "text/plain": [
       "0.00039182184291288927"
      ]
     },
     "execution_count": 402,
     "metadata": {},
     "output_type": "execute_result"
    }
   ],
   "source": [
    "all_dates_dj['percent_change'].mean()\n"
   ]
  },
  {
   "cell_type": "code",
   "execution_count": 403,
   "metadata": {
    "collapsed": false
   },
   "outputs": [],
   "source": [
    "all_dates_tse['isMoon'] = all_dates_tse['isMoon'].map({'fullmoon': 1, 'notFullMoon': 0})\n",
    "all_dates_dj['isMoon'] = all_dates_dj['isMoon'].map({'fullmoon': 1, 'notFullMoon': 0})\n",
    "all_dates_nq['isMoon'] = all_dates_nq['isMoon'].map({'fullmoon': 1, 'notFullMoon': 0})\n",
    "all_dates_sp['isMoon'] = all_dates_sp['isMoon'].map({'fullmoon': 1, 'notFullMoon': 0})\n",
    "\n",
    "\n",
    "\n"
   ]
  },
  {
   "cell_type": "code",
   "execution_count": 404,
   "metadata": {
    "collapsed": false
   },
   "outputs": [
    {
     "data": {
      "text/html": [
       "<div>\n",
       "<table border=\"1\" class=\"dataframe\">\n",
       "  <thead>\n",
       "    <tr style=\"text-align: right;\">\n",
       "      <th></th>\n",
       "      <th>Date</th>\n",
       "      <th>Open</th>\n",
       "      <th>High</th>\n",
       "      <th>Low</th>\n",
       "      <th>Close</th>\n",
       "      <th>Volume</th>\n",
       "      <th>Adj Close</th>\n",
       "      <th>percent_change</th>\n",
       "      <th>isMoon</th>\n",
       "      <th>HolidayUSA</th>\n",
       "      <th>HolidayCAN</th>\n",
       "      <th>Day</th>\n",
       "      <th>Month</th>\n",
       "      <th>weekday</th>\n",
       "    </tr>\n",
       "  </thead>\n",
       "  <tbody>\n",
       "    <tr>\n",
       "      <th>0</th>\n",
       "      <td>2016-03-04</td>\n",
       "      <td>13150.500000</td>\n",
       "      <td>13281.799805</td>\n",
       "      <td>13150.5</td>\n",
       "      <td>13212.500000</td>\n",
       "      <td>394167400</td>\n",
       "      <td>13212.500000</td>\n",
       "      <td>0.006766</td>\n",
       "      <td>0</td>\n",
       "      <td>NonHoliday</td>\n",
       "      <td>NonHoliday</td>\n",
       "      <td>Fri</td>\n",
       "      <td>3</td>\n",
       "      <td>4</td>\n",
       "    </tr>\n",
       "    <tr>\n",
       "      <th>1</th>\n",
       "      <td>2016-03-03</td>\n",
       "      <td>13055.200195</td>\n",
       "      <td>13157.400391</td>\n",
       "      <td>13025.5</td>\n",
       "      <td>13123.700195</td>\n",
       "      <td>343296700</td>\n",
       "      <td>13123.700195</td>\n",
       "      <td>0.008127</td>\n",
       "      <td>0</td>\n",
       "      <td>NonHoliday</td>\n",
       "      <td>NonHoliday</td>\n",
       "      <td>Thu</td>\n",
       "      <td>3</td>\n",
       "      <td>3</td>\n",
       "    </tr>\n",
       "    <tr>\n",
       "      <th>2</th>\n",
       "      <td>2016-03-02</td>\n",
       "      <td>12985.200195</td>\n",
       "      <td>13030.400391</td>\n",
       "      <td>12858.0</td>\n",
       "      <td>13017.900391</td>\n",
       "      <td>295879500</td>\n",
       "      <td>13017.900391</td>\n",
       "      <td>0.002758</td>\n",
       "      <td>0</td>\n",
       "      <td>NonHoliday</td>\n",
       "      <td>NonHoliday</td>\n",
       "      <td>Wed</td>\n",
       "      <td>3</td>\n",
       "      <td>2</td>\n",
       "    </tr>\n",
       "  </tbody>\n",
       "</table>\n",
       "</div>"
      ],
      "text/plain": [
       "        Date          Open          High      Low         Close     Volume  \\\n",
       "0 2016-03-04  13150.500000  13281.799805  13150.5  13212.500000  394167400   \n",
       "1 2016-03-03  13055.200195  13157.400391  13025.5  13123.700195  343296700   \n",
       "2 2016-03-02  12985.200195  13030.400391  12858.0  13017.900391  295879500   \n",
       "\n",
       "      Adj Close  percent_change  isMoon  HolidayUSA  HolidayCAN  Day  Month  \\\n",
       "0  13212.500000        0.006766       0  NonHoliday  NonHoliday  Fri      3   \n",
       "1  13123.700195        0.008127       0  NonHoliday  NonHoliday  Thu      3   \n",
       "2  13017.900391        0.002758       0  NonHoliday  NonHoliday  Wed      3   \n",
       "\n",
       "   weekday  \n",
       "0        4  \n",
       "1        3  \n",
       "2        2  "
      ]
     },
     "execution_count": 404,
     "metadata": {},
     "output_type": "execute_result"
    }
   ],
   "source": [
    "all_dates_tse[:3]\n"
   ]
  },
  {
   "cell_type": "code",
   "execution_count": 405,
   "metadata": {
    "collapsed": false
   },
   "outputs": [],
   "source": [
    "all_dates = [all_dates_dj, all_dates_nq, all_dates_sp, all_dates_tse]\n",
    "\n"
   ]
  },
  {
   "cell_type": "code",
   "execution_count": 406,
   "metadata": {
    "collapsed": false
   },
   "outputs": [],
   "source": [
    "\n",
    "holidays.loc[holidays.HolidayUSA != 'NonHoliday', 'HolidayUSA'] = 1\n",
    "holidays.loc[holidays.HolidayUSA == 'NonHoliday', 'HolidayUSA'] = 0\n",
    "holidays.loc[holidays.HolidayCAN != 'NonHoliday', 'HolidayCAN'] = 1\n",
    "holidays.loc[holidays.HolidayCAN == 'NonHoliday', 'HolidayCAN'] = 0\n"
   ]
  },
  {
   "cell_type": "code",
   "execution_count": null,
   "metadata": {
    "collapsed": false
   },
   "outputs": [],
   "source": []
  },
  {
   "cell_type": "code",
   "execution_count": null,
   "metadata": {
    "collapsed": false
   },
   "outputs": [],
   "source": []
  },
  {
   "cell_type": "code",
   "execution_count": 407,
   "metadata": {
    "collapsed": false,
    "scrolled": false
   },
   "outputs": [],
   "source": [
    "holidays['weekday'] = holidays['Date'].dt.dayofweek"
   ]
  },
  {
   "cell_type": "code",
   "execution_count": 408,
   "metadata": {
    "collapsed": false
   },
   "outputs": [
    {
     "data": {
      "text/html": [
       "<div>\n",
       "<table border=\"1\" class=\"dataframe\">\n",
       "  <thead>\n",
       "    <tr style=\"text-align: right;\">\n",
       "      <th></th>\n",
       "      <th>Date</th>\n",
       "      <th>HolidayUSA</th>\n",
       "      <th>HolidayCAN</th>\n",
       "      <th>weekday</th>\n",
       "    </tr>\n",
       "  </thead>\n",
       "  <tbody>\n",
       "    <tr>\n",
       "      <th>0</th>\n",
       "      <td>1985-01-01</td>\n",
       "      <td>1</td>\n",
       "      <td>1</td>\n",
       "      <td>1</td>\n",
       "    </tr>\n",
       "    <tr>\n",
       "      <th>1</th>\n",
       "      <td>1985-01-02</td>\n",
       "      <td>0</td>\n",
       "      <td>0</td>\n",
       "      <td>2</td>\n",
       "    </tr>\n",
       "    <tr>\n",
       "      <th>2</th>\n",
       "      <td>1985-01-03</td>\n",
       "      <td>0</td>\n",
       "      <td>0</td>\n",
       "      <td>3</td>\n",
       "    </tr>\n",
       "  </tbody>\n",
       "</table>\n",
       "</div>"
      ],
      "text/plain": [
       "        Date HolidayUSA HolidayCAN  weekday\n",
       "0 1985-01-01          1          1        1\n",
       "1 1985-01-02          0          0        2\n",
       "2 1985-01-03          0          0        3"
      ]
     },
     "execution_count": 408,
     "metadata": {},
     "output_type": "execute_result"
    }
   ],
   "source": [
    "holidays[:3]"
   ]
  },
  {
   "cell_type": "code",
   "execution_count": 409,
   "metadata": {
    "collapsed": false
   },
   "outputs": [],
   "source": [
    "holidays = holidays[holidays.weekday != 5]\n",
    "holidays = holidays[holidays.weekday != 6]"
   ]
  },
  {
   "cell_type": "code",
   "execution_count": 410,
   "metadata": {
    "collapsed": false,
    "scrolled": true
   },
   "outputs": [],
   "source": [
    "# holidays[:300]"
   ]
  },
  {
   "cell_type": "code",
   "execution_count": 411,
   "metadata": {
    "collapsed": true
   },
   "outputs": [],
   "source": [
    "holidays['HolidayCAN_shifted1']= holidays['HolidayCAN'].shift(-1)\n",
    "# holidays['HolidayCAN_shifted2']= holidays['HolidayCAN'].shift(-2)\n",
    "# holidays['HolidayCAN_shifted3']= holidays['HolidayCAN'].shift(-3)\n",
    "\n",
    "holidays['HolidayUSA_shifted1']= holidays['HolidayUSA'].shift(-1)\n",
    "# holidays['HolidayUSA_shifted2']= holidays['HolidayUSA'].shift(-2)\n",
    "# holidays['HolidayUSA_shifted3']= holidays['HolidayUSA'].shift(-3)"
   ]
  },
  {
   "cell_type": "code",
   "execution_count": 412,
   "metadata": {
    "collapsed": false
   },
   "outputs": [],
   "source": [
    "# hol['USshifted'] = holidays['HolidayUSA']"
   ]
  },
  {
   "cell_type": "code",
   "execution_count": 413,
   "metadata": {
    "collapsed": true
   },
   "outputs": [],
   "source": [
    "# exchanges = [all_dates_tse, all_dates_dj, all_dates_nq, all_dates_sp]\n",
    "\n",
    "# for exchange in exchanges:\n",
    "#     exchange['pre_holiday_us'] = holidays['HolidayUSA_shifted1']\n",
    "#     exchange['pre_holiday_ca'] = holidays['HolidayCAN_shifted1']\n",
    "# all_dates_nq1 = pd.merge(nq, holidays, right_on='Date', left_on='Date', how='inner')\n",
    "\n",
    "\n",
    "tse_dates = pd.merge(all_dates_tse, holidays, right_on='Date', left_on='Date', how='inner')\n",
    "dj_dates = pd.merge(all_dates_dj, holidays, right_on='Date', left_on='Date', how='inner')\n",
    "nq_dates = pd.merge(all_dates_nq, holidays, right_on='Date', left_on='Date', how='inner')\n",
    "sp_dates = pd.merge(all_dates_sp, holidays, right_on='Date', left_on='Date', how='inner')\n"
   ]
  },
  {
   "cell_type": "code",
   "execution_count": 414,
   "metadata": {
    "collapsed": false
   },
   "outputs": [
    {
     "data": {
      "text/html": [
       "<div>\n",
       "<table border=\"1\" class=\"dataframe\">\n",
       "  <thead>\n",
       "    <tr style=\"text-align: right;\">\n",
       "      <th></th>\n",
       "      <th>Date</th>\n",
       "      <th>Open</th>\n",
       "      <th>High</th>\n",
       "      <th>Low</th>\n",
       "      <th>Close</th>\n",
       "      <th>Volume</th>\n",
       "      <th>Adj Close</th>\n",
       "      <th>percent_change</th>\n",
       "      <th>isMoon</th>\n",
       "      <th>HolidayUSA_x</th>\n",
       "      <th>HolidayCAN_x</th>\n",
       "      <th>Day</th>\n",
       "      <th>Month</th>\n",
       "      <th>weekday_x</th>\n",
       "      <th>HolidayUSA_y</th>\n",
       "      <th>HolidayCAN_y</th>\n",
       "      <th>weekday_y</th>\n",
       "      <th>HolidayCAN_shifted1</th>\n",
       "      <th>HolidayUSA_shifted1</th>\n",
       "    </tr>\n",
       "  </thead>\n",
       "  <tbody>\n",
       "    <tr>\n",
       "      <th>0</th>\n",
       "      <td>2016-03-04</td>\n",
       "      <td>13150.500000</td>\n",
       "      <td>13281.799805</td>\n",
       "      <td>13150.5</td>\n",
       "      <td>13212.500000</td>\n",
       "      <td>394167400</td>\n",
       "      <td>13212.500000</td>\n",
       "      <td>0.006766</td>\n",
       "      <td>0</td>\n",
       "      <td>NonHoliday</td>\n",
       "      <td>NonHoliday</td>\n",
       "      <td>Fri</td>\n",
       "      <td>3</td>\n",
       "      <td>4</td>\n",
       "      <td>0</td>\n",
       "      <td>0</td>\n",
       "      <td>4</td>\n",
       "      <td>0</td>\n",
       "      <td>0</td>\n",
       "    </tr>\n",
       "    <tr>\n",
       "      <th>1</th>\n",
       "      <td>2016-03-03</td>\n",
       "      <td>13055.200195</td>\n",
       "      <td>13157.400391</td>\n",
       "      <td>13025.5</td>\n",
       "      <td>13123.700195</td>\n",
       "      <td>343296700</td>\n",
       "      <td>13123.700195</td>\n",
       "      <td>0.008127</td>\n",
       "      <td>0</td>\n",
       "      <td>NonHoliday</td>\n",
       "      <td>NonHoliday</td>\n",
       "      <td>Thu</td>\n",
       "      <td>3</td>\n",
       "      <td>3</td>\n",
       "      <td>0</td>\n",
       "      <td>0</td>\n",
       "      <td>3</td>\n",
       "      <td>0</td>\n",
       "      <td>0</td>\n",
       "    </tr>\n",
       "    <tr>\n",
       "      <th>2</th>\n",
       "      <td>2016-03-02</td>\n",
       "      <td>12985.200195</td>\n",
       "      <td>13030.400391</td>\n",
       "      <td>12858.0</td>\n",
       "      <td>13017.900391</td>\n",
       "      <td>295879500</td>\n",
       "      <td>13017.900391</td>\n",
       "      <td>0.002758</td>\n",
       "      <td>0</td>\n",
       "      <td>NonHoliday</td>\n",
       "      <td>NonHoliday</td>\n",
       "      <td>Wed</td>\n",
       "      <td>3</td>\n",
       "      <td>2</td>\n",
       "      <td>0</td>\n",
       "      <td>0</td>\n",
       "      <td>2</td>\n",
       "      <td>0</td>\n",
       "      <td>0</td>\n",
       "    </tr>\n",
       "  </tbody>\n",
       "</table>\n",
       "</div>"
      ],
      "text/plain": [
       "        Date          Open          High      Low         Close     Volume  \\\n",
       "0 2016-03-04  13150.500000  13281.799805  13150.5  13212.500000  394167400   \n",
       "1 2016-03-03  13055.200195  13157.400391  13025.5  13123.700195  343296700   \n",
       "2 2016-03-02  12985.200195  13030.400391  12858.0  13017.900391  295879500   \n",
       "\n",
       "      Adj Close  percent_change  isMoon HolidayUSA_x HolidayCAN_x  Day  Month  \\\n",
       "0  13212.500000        0.006766       0   NonHoliday   NonHoliday  Fri      3   \n",
       "1  13123.700195        0.008127       0   NonHoliday   NonHoliday  Thu      3   \n",
       "2  13017.900391        0.002758       0   NonHoliday   NonHoliday  Wed      3   \n",
       "\n",
       "   weekday_x HolidayUSA_y HolidayCAN_y  weekday_y HolidayCAN_shifted1  \\\n",
       "0          4            0            0          4                   0   \n",
       "1          3            0            0          3                   0   \n",
       "2          2            0            0          2                   0   \n",
       "\n",
       "  HolidayUSA_shifted1  \n",
       "0                   0  \n",
       "1                   0  \n",
       "2                   0  "
      ]
     },
     "execution_count": 414,
     "metadata": {},
     "output_type": "execute_result"
    }
   ],
   "source": [
    "tse_dates[:3]"
   ]
  },
  {
   "cell_type": "code",
   "execution_count": 415,
   "metadata": {
    "collapsed": false
   },
   "outputs": [],
   "source": [
    "tse_data = tse_dates[['Date', 'Open', 'High', 'Low', 'Close', 'Volume', 'Adj Close', 'percent_change', 'isMoon', 'HolidayCAN_y', 'HolidayCAN_shifted1', 'weekday_x', 'Month']]\n",
    "dj_data = dj_dates[['Date', 'Open', 'High', 'Low', 'Close', 'Volume', 'Adj Close', 'percent_change', 'isMoon', 'HolidayUSA_y', 'HolidayUSA_shifted1', 'weekday_x', 'Month']]\n",
    "nq_data = nq_dates[['Date', 'Open', 'High', 'Low', 'Close', 'Volume', 'Adj Close', 'percent_change', 'isMoon', 'HolidayUSA_y', 'HolidayUSA_shifted1', 'weekday_x', 'Month']]\n",
    "sp_data = sp_dates[['Date', 'Open', 'High', 'Low', 'Close', 'Volume', 'Adj Close', 'percent_change', 'isMoon', 'HolidayUSA_y', 'HolidayUSA_shifted1', 'weekday_x', 'Month']]"
   ]
  },
  {
   "cell_type": "code",
   "execution_count": 416,
   "metadata": {
    "collapsed": false,
    "scrolled": true
   },
   "outputs": [
    {
     "data": {
      "text/html": [
       "<div>\n",
       "<table border=\"1\" class=\"dataframe\">\n",
       "  <thead>\n",
       "    <tr style=\"text-align: right;\">\n",
       "      <th></th>\n",
       "      <th>Date</th>\n",
       "      <th>Open</th>\n",
       "      <th>High</th>\n",
       "      <th>Low</th>\n",
       "      <th>Close</th>\n",
       "      <th>Volume</th>\n",
       "      <th>Adj Close</th>\n",
       "      <th>percent_change</th>\n",
       "      <th>isMoon</th>\n",
       "      <th>HolidayUSA_y</th>\n",
       "      <th>HolidayUSA_shifted1</th>\n",
       "      <th>weekday_x</th>\n",
       "      <th>Month</th>\n",
       "    </tr>\n",
       "  </thead>\n",
       "  <tbody>\n",
       "    <tr>\n",
       "      <th>0</th>\n",
       "      <td>2016-03-04</td>\n",
       "      <td>1994.010010</td>\n",
       "      <td>2009.130005</td>\n",
       "      <td>1986.770020</td>\n",
       "      <td>1999.989990</td>\n",
       "      <td>6049930000</td>\n",
       "      <td>1999.989990</td>\n",
       "      <td>0.003306</td>\n",
       "      <td>0</td>\n",
       "      <td>0</td>\n",
       "      <td>0</td>\n",
       "      <td>4</td>\n",
       "      <td>3</td>\n",
       "    </tr>\n",
       "    <tr>\n",
       "      <th>1</th>\n",
       "      <td>2016-03-03</td>\n",
       "      <td>1985.599976</td>\n",
       "      <td>1993.689941</td>\n",
       "      <td>1977.369995</td>\n",
       "      <td>1993.400024</td>\n",
       "      <td>5081700000</td>\n",
       "      <td>1993.400024</td>\n",
       "      <td>0.003499</td>\n",
       "      <td>0</td>\n",
       "      <td>0</td>\n",
       "      <td>0</td>\n",
       "      <td>3</td>\n",
       "      <td>3</td>\n",
       "    </tr>\n",
       "    <tr>\n",
       "      <th>2</th>\n",
       "      <td>2016-03-02</td>\n",
       "      <td>1976.599976</td>\n",
       "      <td>1986.510010</td>\n",
       "      <td>1968.800049</td>\n",
       "      <td>1986.449951</td>\n",
       "      <td>4666610000</td>\n",
       "      <td>1986.449951</td>\n",
       "      <td>0.004094</td>\n",
       "      <td>0</td>\n",
       "      <td>0</td>\n",
       "      <td>0</td>\n",
       "      <td>2</td>\n",
       "      <td>3</td>\n",
       "    </tr>\n",
       "  </tbody>\n",
       "</table>\n",
       "</div>"
      ],
      "text/plain": [
       "        Date         Open         High          Low        Close      Volume  \\\n",
       "0 2016-03-04  1994.010010  2009.130005  1986.770020  1999.989990  6049930000   \n",
       "1 2016-03-03  1985.599976  1993.689941  1977.369995  1993.400024  5081700000   \n",
       "2 2016-03-02  1976.599976  1986.510010  1968.800049  1986.449951  4666610000   \n",
       "\n",
       "     Adj Close  percent_change  isMoon HolidayUSA_y HolidayUSA_shifted1  \\\n",
       "0  1999.989990        0.003306       0            0                   0   \n",
       "1  1993.400024        0.003499       0            0                   0   \n",
       "2  1986.449951        0.004094       0            0                   0   \n",
       "\n",
       "   weekday_x  Month  \n",
       "0          4      3  \n",
       "1          3      3  \n",
       "2          2      3  "
      ]
     },
     "execution_count": 416,
     "metadata": {},
     "output_type": "execute_result"
    }
   ],
   "source": [
    "sp_data[:3]"
   ]
  },
  {
   "cell_type": "code",
   "execution_count": 417,
   "metadata": {
    "collapsed": false
   },
   "outputs": [],
   "source": [
    "holiday_usa_sp = sp_data.loc[sp_data['HolidayUSA_y'] == 1]\n",
    "holiday_usa_nq = nq_data.loc[nq_data['HolidayUSA_y'] == 1]\n",
    "holiday_usa_dj = dj_data.loc[sp_data['HolidayUSA_y'] == 1]\n",
    "holiday_can_tse = tse_data.loc[tse_data['HolidayCAN_y'] == 1]\n",
    "no_holiday_usa_sp = sp_data.loc[sp_data['HolidayUSA_y'] == 0]\n",
    "no_holiday_usa_nq = nq_data.loc[nq_data['HolidayUSA_y'] == 0]\n",
    "no_holiday_usa_dj = dj_data.loc[sp_data['HolidayUSA_y'] == 0]\n",
    "no_holiday_can_tse = tse_data.loc[tse_data['HolidayCAN_y'] == 0]\n",
    "# b = tse_data.loc[tse_data['HolidayCAN_shifted1'] == 1]\n",
    "# a['percent_change'].mean()\n",
    "# len(b['percent_change'])"
   ]
  },
  {
   "cell_type": "code",
   "execution_count": 418,
   "metadata": {
    "collapsed": false
   },
   "outputs": [],
   "source": [
    "# test_dj = dj_data[dj_data.Date > '2005-01-01']\n",
    "# train_dj = dj_data[dj_data.Date <= '2005-01-01']\n",
    "# train_dj[:3]\n",
    "\n",
    "# from collections import OrderedDict\n",
    "\n",
    "# holiday_or_no = OrderedDict()\n",
    "# holiday_or_no = {'holiday_sp': holiday_usa_sp['percent_change'].mean(), \n",
    "#                  'no_holiday_sp': no_holiday_usa_sp['percent_change'].mean(), \n",
    "#                  'holiday_nq': holiday_usa_nq['percent_change'].mean(), \n",
    "#                  'no_holiday_nq': no_holiday_usa_nq['percent_change'].mean(), \n",
    "#                  'holiday_dj': holiday_usa_dj['percent_change'].mean(), \n",
    "#                  'no_holiday_dj': no_holiday_usa_dj['percent_change'].mean(), \n",
    "#                  'holiday_tse': holiday_can_tse['percent_change'].mean(), \n",
    "#                  'no_holiday_tse': no_holiday_can_tse['percent_change'].mean(), \n",
    "# }\n",
    "\n",
    "holiday_sp =  holiday_usa_sp['percent_change'].mean()\n",
    "no_holiday_sp = no_holiday_usa_sp['percent_change'].mean()\n",
    "holiday_nq = holiday_usa_nq['percent_change'].mean()\n",
    "no_holiday_nq = no_holiday_usa_nq['percent_change'].mean() \n",
    "holiday_dj = holiday_usa_dj['percent_change'].mean() \n",
    "no_holiday_dj = no_holiday_usa_dj['percent_change'].mean() \n",
    "holiday_tse = holiday_can_tse['percent_change'].mean()\n",
    "no_holiday_tse = no_holiday_can_tse['percent_change'].mean()\n",
    "\n",
    "\n",
    "\n",
    "\n"
   ]
  },
  {
   "cell_type": "code",
   "execution_count": 419,
   "metadata": {
    "collapsed": false
   },
   "outputs": [
    {
     "data": {
      "text/plain": [
       "{'holiday_dj': 0.00052105707806814267,\n",
       " 'holiday_nq': 0.0013613418323712928,\n",
       " 'holiday_sp': 0.00088586587051873512,\n",
       " 'holiday_tse': -0.00043821062683260646,\n",
       " 'no_holiday_dj': 0.00038876731463356067,\n",
       " 'no_holiday_nq': 0.00043936695482223707,\n",
       " 'no_holiday_sp': 0.00036203453265315093,\n",
       " 'no_holiday_tse': 0.00027013681013491112}"
      ]
     },
     "execution_count": 419,
     "metadata": {},
     "output_type": "execute_result"
    }
   ],
   "source": [
    "holiday_or_no"
   ]
  },
  {
   "cell_type": "code",
   "execution_count": 420,
   "metadata": {
    "collapsed": false
   },
   "outputs": [
    {
     "data": {
      "image/png": "[encoded data removed]",
      "text/plain": [
       "<matplotlib.figure.Figure at 0x7f16a3df3550>"
      ]
     },
     "metadata": {},
     "output_type": "display_data"
    }
   ],
   "source": [
    "# y = list(holiday_or_no.keys())\n",
    "# x = list(holiday_or_no.values())\n",
    "import numpy as np\n",
    "\n",
    "y = [holiday_sp, holiday_nq, holiday_dj]\n",
    "x = [no_holiday_sp, no_holiday_nq, no_holiday_dj]\n",
    "\n",
    "n_groups = 3\n",
    "\n",
    "index = np.arange(n_groups)\n",
    "\n",
    "bar_width = 0.35\n",
    "\n",
    "opacity = 0.4\n",
    "error_config = {'ecolor': '0.3'}\n",
    "\n",
    "\n",
    "rects1 = plt.bar(index, y, bar_width,\n",
    "                 alpha=opacity,\n",
    "                 color='b',\n",
    "                 label='Holiday')\n",
    "\n",
    "rects2 = plt.bar(index + bar_width, x, bar_width,\n",
    "                 alpha=opacity,\n",
    "                 color='r',\n",
    "                 label='Non-holiday')\n",
    "\n",
    "plt.xlabel('Indices')\n",
    "plt.ylabel('Returns')\n",
    "plt.title('Returns on holidays vs non-holidays')\n",
    "plt.xticks(index + bar_width, ('S&P500', 'Nasdaq', 'DJIA'))\n",
    "plt.legend()\n",
    "\n",
    "plt.tight_layout()\n",
    "plt.show()\n",
    "\n",
    "\n",
    "# fig = plt.figure(figsize=(10, 6))\n",
    "# plt.xlabel('holidays')\n",
    "# plt.ylabel('returns')\n",
    "# plt.title('Histogram of returns on holidays')\n",
    "# plt.grid(True)\n",
    "\n",
    "# a = range(8)\n",
    "# # plt.bar()\n",
    "# plt.xticks(a, y)\n",
    "# plt.bar(a, x, align='center', color = 'r')\n",
    "# plt.show()\n",
    "\n",
    "\n"
   ]
  },
  {
   "cell_type": "code",
   "execution_count": 479,
   "metadata": {
    "collapsed": false
   },
   "outputs": [],
   "source": [
    "mon_sp =  sp_data[sp_data['weekday_x'] == 0]['percent_change']\n",
    "tue_sp =  sp_data[sp_data['weekday_x'] == 1]['percent_change']\n",
    "wed_sp =  sp_data[sp_data['weekday_x'] == 2]['percent_change']\n",
    "thu_sp =  sp_data[sp_data['weekday_x'] == 3]['percent_change']\n",
    "fri_sp =  sp_data[sp_data['weekday_x'] == 4]['percent_change']\n",
    "\n",
    "mon_nq =  nq_data[nq_data['weekday_x'] == 0]['percent_change']\n",
    "tue_nq =  nq_data[nq_data['weekday_x'] == 1]['percent_change']\n",
    "wed_nq =  nq_data[nq_data['weekday_x'] == 2]['percent_change']\n",
    "thu_nq =  nq_data[nq_data['weekday_x'] == 3]['percent_change']\n",
    "fri_nq =  nq_data[nq_data['weekday_x'] == 4]['percent_change']\n",
    "\n",
    "mon_dj =  dj_data[dj_data['weekday_x'] == 0]['percent_change']\n",
    "tue_dj =  dj_data[dj_data['weekday_x'] == 1]['percent_change']\n",
    "wed_dj =  dj_data[dj_data['weekday_x'] == 2]['percent_change']\n",
    "thu_dj =  dj_data[dj_data['weekday_x'] == 3]['percent_change']\n",
    "fri_dj =  dj_data[dj_data['weekday_x'] == 4]['percent_change']\n",
    "\n",
    "mon_tse =  tse_data[tse_data['weekday_x'] == 0]['percent_change']\n",
    "tue_tse =  tse_data[tse_data['weekday_x'] == 1]['percent_change']\n",
    "wed_tse =  tse_data[tse_data['weekday_x'] == 2]['percent_change']\n",
    "thu_tse =  tse_data[tse_data['weekday_x'] == 3]['percent_change']\n",
    "fri_tse =  tse_data[tse_data['weekday_x'] == 4]['percent_change']\n",
    "\n",
    "# mon_sp.cumsum()\n",
    "\n"
   ]
  },
  {
   "cell_type": "code",
   "execution_count": 461,
   "metadata": {
    "collapsed": false,
    "scrolled": true
   },
   "outputs": [
    {
     "data": {
      "image/png": "[encoded data removed]",
      "text/plain": [
       "<matplotlib.figure.Figure at 0x7f16a2229ed0>"
      ]
     },
     "metadata": {},
     "output_type": "display_data"
    }
   ],
   "source": [
    "a = mon_sp.cumsum().iloc[::-1]\n",
    "b = sp_data[sp_data['weekday_x'] == 0]['Date']\n",
    "\n",
    "x = tue_sp.cumsum().iloc[::-1]\n",
    "y = sp_data[sp_data['weekday_x'] == 1]['Date']\n",
    "\n",
    "c = wed_sp.cumsum().iloc[::-1]\n",
    "d = sp_data[sp_data['weekday_x'] == 2]['Date']\n",
    "\n",
    "k = thu_sp.cumsum().iloc[::-1]\n",
    "l = sp_data[sp_data['weekday_x'] == 3]['Date']\n",
    "\n",
    "t = fri_sp.cumsum().iloc[::-1]\n",
    "u = sp_data[sp_data['weekday_x'] == 4]['Date']\n",
    "\n",
    "fig = plt.figure(figsize=(16, 6))\n",
    "plt.plot(y, x, label=\"Tuesday\")\n",
    "plt.plot(b, a, label=\"Monday\")\n",
    "plt.plot(d, c, label=\"Wednesday\")\n",
    "plt.plot(l, k, label=\"Thursday\")\n",
    "plt.plot(u, t, label=\"Friday\")\n",
    "\n",
    "\n",
    "plt.xlabel('Time')\n",
    "plt.ylabel('Cumulative Returns')\n",
    "plt.title('Weekday effect')\n",
    "plt.legend(loc = 2)\n",
    "\n",
    "\n",
    "plt.show()\n"
   ]
  },
  {
   "cell_type": "code",
   "execution_count": null,
   "metadata": {
    "collapsed": true
   },
   "outputs": [],
   "source": [
    "\n",
    "fig = plt.figure(figsize=(16, 6))\n",
    "plt.plot(y, x, label=\"Tuesday\")\n",
    "plt.plot(b, a, label=\"Monday\")\n",
    "plt.plot(d, c, label=\"Wednesday\")\n",
    "plt.plot(l, k, label=\"Thursday\")\n",
    "plt.plot(u, t, label=\"Friday\")\n",
    "\n",
    "\n",
    "plt.xlabel('Time')\n",
    "plt.ylabel('Cumulative Returns')\n",
    "plt.title('Weekday effect')\n",
    "plt.legend(loc = 2)\n",
    "\n",
    "\n",
    "plt.show()"
   ]
  },
  {
   "cell_type": "code",
   "execution_count": 478,
   "metadata": {
    "collapsed": false
   },
   "outputs": [
    {
     "data": {
      "image/png": "[encoded data removed]",
      "text/plain": [
       "<matplotlib.figure.Figure at 0x7f16a4f5c8d0>"
      ]
     },
     "metadata": {},
     "output_type": "display_data"
    },
    {
     "data": {
      "text/plain": [
       "(0.0018394233679377074, 0.00032206040787932378)"
      ]
     },
     "execution_count": 478,
     "metadata": {},
     "output_type": "execute_result"
    }
   ],
   "source": [
    "moon_sp = sp_data[sp_data['isMoon'] == 1]['percent_change'].mean()\n",
    "no_moon_sp = sp_data[sp_data['isMoon'] == 0]['percent_change'].mean()\n",
    "moon_nq = nq_data[nq_data['isMoon'] == 1]['percent_change'].mean()\n",
    "no_moon_nq = nq_data[nq_data['isMoon'] == 0]['percent_change'].mean()\n",
    "moon_dj = dj_data[dj_data['isMoon'] == 1]['percent_change'].mean()\n",
    "no_moon_dj = dj_data[dj_data['isMoon'] == 0]['percent_change'].mean()\n",
    "\n",
    "fig = plt.figure(figsize=(12, 6))\n",
    "\n",
    "yy = [moon_sp, moon_nq, moon_dj]\n",
    "xx = [no_moon_sp, no_moon_nq, no_moon_dj]\n",
    "\n",
    "n_groups = 3\n",
    "\n",
    "index = np.arange(n_groups)\n",
    "\n",
    "bar_width = 0.35\n",
    "\n",
    "opacity = 0.4\n",
    "error_config = {'ecolor': '0.3'}\n",
    "\n",
    "\n",
    "rects1 = plt.bar(index, yy, bar_width,\n",
    "                 alpha=opacity,\n",
    "                 color='c',\n",
    "                 label='Full moon')\n",
    "\n",
    "rects2 = plt.bar(index + bar_width, xx, bar_width,\n",
    "                 alpha=opacity,\n",
    "                 color='r',\n",
    "                 label='Non-full moon')\n",
    "\n",
    "plt.xlabel('Indices')\n",
    "plt.ylabel('Returns')\n",
    "plt.title('Returns on full moons vs non-full moons')\n",
    "plt.xticks(index + bar_width, ('S&P500', 'Nasdaq', 'DJIA'))\n",
    "plt.legend()\n",
    "\n",
    "plt.tight_layout()\n",
    "\n",
    "plt.show()\n",
    "\n",
    "\n",
    "\n",
    "\n",
    "moon_sp, no_moon_sp"
   ]
  },
  {
   "cell_type": "code",
   "execution_count": 423,
   "metadata": {
    "collapsed": false
   },
   "outputs": [],
   "source": [
    "import numpy as np\n",
    "import statsmodels.api as sm\n",
    "import statsmodels.formula.api as smf\n",
    "import scipy"
   ]
  },
  {
   "cell_type": "code",
   "execution_count": 424,
   "metadata": {
    "collapsed": true
   },
   "outputs": [],
   "source": [
    "predictors_dj = [dj_data['isMoon'], dj_data['HolidayUSA_shifted1'], dj_data['weekday_x'], dj_data['Month']]\n",
    "target_dj = [dj_data['percent_change']]"
   ]
  },
  {
   "cell_type": "code",
   "execution_count": 425,
   "metadata": {
    "collapsed": false
   },
   "outputs": [],
   "source": [
    "# from scipy.cluster import KMeans\n",
    "# import sc\n",
    "# from sklearn.cluster import KMeans\n",
    "# from sklearn import svm\n",
    "\n",
    "\n"
   ]
  },
  {
   "cell_type": "code",
   "execution_count": 426,
   "metadata": {
    "collapsed": false
   },
   "outputs": [],
   "source": [
    "from sklearn.cluster import KMeans\n"
   ]
  },
  {
   "cell_type": "code",
   "execution_count": null,
   "metadata": {
    "collapsed": true
   },
   "outputs": [],
   "source": []
  }
 ],
 "metadata": {
  "kernelspec": {
   "display_name": "Python 2",
   "language": "python",
   "name": "python2"
  },
  "language_info": {
   "codemirror_mode": {
    "name": "ipython",
    "version": 2
   },
   "file_extension": ".py",
   "mimetype": "text/x-python",
   "name": "python",
   "nbconvert_exporter": "python",
   "pygments_lexer": "ipython2",
   "version": "2.7.10"
  }
 },
 "nbformat": 4,
 "nbformat_minor": 0
}
